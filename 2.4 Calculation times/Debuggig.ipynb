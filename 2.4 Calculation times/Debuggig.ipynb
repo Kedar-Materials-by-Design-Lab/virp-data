{
 "cells": [
  {
   "cell_type": "code",
   "execution_count": 10,
   "id": "901bb9dc-72f9-4bda-9207-19965ee874c3",
   "metadata": {},
   "outputs": [
    {
     "name": "stdout",
     "output_type": "stream",
     "text": [
      "CHGNet v0.3.0 initialized with 412,525 parameters\n",
      "CHGNet will run on cpu\n",
      "Processing .cif file: _disordered_cifs\\Verkelis.cif\n",
      "Directory created at: Verkelis\n",
      "Supercell created and saved as  Verkelis\\Verkelis_supercell.cif\n",
      "Generating virtual cell # 0 :\n",
      "Disordered site name:  In1\n",
      "- Number of elements in this site:  1\n",
      "- Number of sites in supercell:  108\n",
      "- Atoms and site assignment (float/rounded):  [('In', 72.36, 72)]\n",
      "- No of filled sites:  72 / 108\n",
      "Generating virtual cell # 1 :\n",
      "Disordered site name:  In1\n",
      "- Number of elements in this site:  1\n",
      "- Number of sites in supercell:  108\n",
      "- Atoms and site assignment (float/rounded):  [('In', 72.36, 72)]\n",
      "- No of filled sites:  72 / 108\n",
      "All cells generated (see _JOBDONE file).\n",
      "Results saved to virp_session_summary.csv\n"
     ]
    }
   ],
   "source": [
    "from virp import Session\n",
    "Session(supercell=[3,3,3], no_of_samples = 2)"
   ]
  },
  {
   "cell_type": "code",
   "execution_count": 4,
   "id": "fe86f9e7-6755-4fef-a60a-932ca605ae23",
   "metadata": {},
   "outputs": [
    {
     "name": "stdout",
     "output_type": "stream",
     "text": [
      "_disordered_cifs\\HEA.cif\n"
     ]
    }
   ],
   "source": [
    "from pathlib import Path\n",
    "for filename in Path(\"_disordered_cifs/\").glob(\"*.cif\"): print(filename)"
   ]
  },
  {
   "cell_type": "code",
   "execution_count": 7,
   "id": "abf025e1-9ed2-4cc9-84e0-d4ebbb120d20",
   "metadata": {},
   "outputs": [
    {
     "data": {
      "text/plain": [
       "{'has_partial': True,\n",
       " 'partial_sites': [(0, 'H0+', 0.75),\n",
       "  (1, 'H0+', 0.75),\n",
       "  (2, 'Zr0+', 0.2),\n",
       "  (2, 'Ti0+', 0.2),\n",
       "  (2, 'Hf0+', 0.2),\n",
       "  (2, 'Mo0+', 0.2),\n",
       "  (2, 'Ta0+', 0.2)]}"
      ]
     },
     "execution_count": 7,
     "metadata": {},
     "output_type": "execute_result"
    }
   ],
   "source": [
    "from virp.database import is_SiteDisordered\n",
    "import warnings\n",
    "warnings.simplefilter(\"ignore\")\n",
    "is_SiteDisordered(\"_disordered_cifs\\\\HEA.cif\")"
   ]
  },
  {
   "cell_type": "code",
   "execution_count": 1,
   "id": "a91d4237-ae29-4981-9fdc-82cf48aa8702",
   "metadata": {},
   "outputs": [
    {
     "data": {
      "application/vnd.jupyter.widget-view+json": {
       "model_id": "c16df346d4754d1aaf8e381e55f71e95",
       "version_major": 2,
       "version_minor": 0
      },
      "text/plain": []
     },
     "metadata": {},
     "output_type": "display_data"
    },
    {
     "name": "stderr",
     "output_type": "stream",
     "text": [
      "C:\\Users\\andyp\\anaconda3\\envs\\Vaspnest\\lib\\site-packages\\pymatgen\\core\\structure.py:3116: EncodingWarning: We strongly encourage explicit `encoding`, and we would use UTF-8 by default as per PEP 686\n",
      "  with zopen(filename, mode=\"rt\", errors=\"replace\") as file:\n",
      "C:\\Users\\andyp\\anaconda3\\envs\\Vaspnest\\lib\\site-packages\\numpy\\core\\fromnumeric.py:59: FutureWarning: 'Series.swapaxes' is deprecated and will be removed in a future version. Please use 'Series.transpose' instead.\n",
      "  return bound(*args, **kwds)\n",
      "C:\\Users\\andyp\\anaconda3\\envs\\Vaspnest\\lib\\site-packages\\pymatgen\\core\\structure.py:3116: EncodingWarning: We strongly encourage explicit `encoding`, and we would use UTF-8 by default as per PEP 686\n",
      "  with zopen(filename, mode=\"rt\", errors=\"replace\") as file:\n",
      "C:\\Users\\andyp\\anaconda3\\envs\\Vaspnest\\lib\\site-packages\\pymatgen\\io\\vasp\\inputs.py:631: EncodingWarning: We strongly encourage explicit `encoding`, and we would use UTF-8 by default as per PEP 686\n",
      "  with zopen(filename, mode=\"wt\") as file:\n"
     ]
    },
    {
     "name": "stdout",
     "output_type": "stream",
     "text": [
      "Reading from file: _disordered_cifs\\Verkelis.vasp\n",
      "CHGNet v0.3.0 initialized with 412,525 parameters\n",
      "CHGNet will run on cpu\n",
      "Site-disordered structure detected!\n",
      "Site-disordered structure detected!\n",
      "Unaverageness:  0.0\n",
      "Reading from file: Verkelis\\stropt\\Verkelis_virtual_0_stropt.vasp\n"
     ]
    },
    {
     "name": "stderr",
     "output_type": "stream",
     "text": [
      "C:\\Users\\andyp\\anaconda3\\envs\\Vaspnest\\lib\\site-packages\\numpy\\core\\fromnumeric.py:59: FutureWarning: 'Series.swapaxes' is deprecated and will be removed in a future version. Please use 'Series.transpose' instead.\n",
      "  return bound(*args, **kwds)\n"
     ]
    },
    {
     "name": "stdout",
     "output_type": "stream",
     "text": [
      "Unaverageness:  34.09693827897162\n",
      "Bonding matrix distance:  3.5131285421451794  Unaverageness:  34.09693827897162\n"
     ]
    },
    {
     "name": "stderr",
     "output_type": "stream",
     "text": [
      "C:\\Users\\andyp\\anaconda3\\envs\\Vaspnest\\lib\\site-packages\\pymatgen\\core\\structure.py:3116: EncodingWarning: We strongly encourage explicit `encoding`, and we would use UTF-8 by default as per PEP 686\n",
      "  with zopen(filename, mode=\"rt\", errors=\"replace\") as file:\n",
      "C:\\Users\\andyp\\anaconda3\\envs\\Vaspnest\\lib\\site-packages\\pymatgen\\io\\vasp\\inputs.py:631: EncodingWarning: We strongly encourage explicit `encoding`, and we would use UTF-8 by default as per PEP 686\n",
      "  with zopen(filename, mode=\"wt\") as file:\n"
     ]
    },
    {
     "name": "stdout",
     "output_type": "stream",
     "text": [
      "Reading from file: Verkelis\\stropt\\Verkelis_virtual_1_stropt.vasp\n"
     ]
    },
    {
     "name": "stderr",
     "output_type": "stream",
     "text": [
      "C:\\Users\\andyp\\anaconda3\\envs\\Vaspnest\\lib\\site-packages\\numpy\\core\\fromnumeric.py:59: FutureWarning: 'Series.swapaxes' is deprecated and will be removed in a future version. Please use 'Series.transpose' instead.\n",
      "  return bound(*args, **kwds)\n"
     ]
    },
    {
     "name": "stdout",
     "output_type": "stream",
     "text": [
      "Unaverageness:  33.881280967519515\n",
      "Bonding matrix distance:  3.4964819130342404  Unaverageness:  33.881280967519515\n",
      "Summary of results written to _operations/VirtualLibrary.csv\n",
      "CHGNet v0.3.0 initialized with 412,525 parameters\n",
      "CHGNet will run on cpu\n",
      "Site-disordered structure detected!\n",
      "Site-disordered structure detected!\n",
      "Unaverageness:  0.0\n",
      "Reading from file: Verkelis\\no_stropt\\Verkelis_virtual_0.vasp\n"
     ]
    },
    {
     "name": "stderr",
     "output_type": "stream",
     "text": [
      "C:\\Users\\andyp\\anaconda3\\envs\\Vaspnest\\lib\\site-packages\\numpy\\core\\fromnumeric.py:59: FutureWarning: 'Series.swapaxes' is deprecated and will be removed in a future version. Please use 'Series.transpose' instead.\n",
      "  return bound(*args, **kwds)\n",
      "C:\\Users\\andyp\\anaconda3\\envs\\Vaspnest\\lib\\site-packages\\pymatgen\\core\\structure.py:3116: EncodingWarning: We strongly encourage explicit `encoding`, and we would use UTF-8 by default as per PEP 686\n",
      "  with zopen(filename, mode=\"rt\", errors=\"replace\") as file:\n",
      "C:\\Users\\andyp\\anaconda3\\envs\\Vaspnest\\lib\\site-packages\\pymatgen\\io\\cif.py:1290: UserWarning: Issues encountered while parsing CIF: 73 fractional coordinates rounded to ideal values to avoid issues with finite precision.\n",
      "  warnings.warn(\"Issues encountered while parsing CIF: \" + \"\\n\".join(self.warnings))\n",
      "C:\\Users\\andyp\\anaconda3\\envs\\Vaspnest\\lib\\site-packages\\pymatgen\\io\\vasp\\inputs.py:631: EncodingWarning: We strongly encourage explicit `encoding`, and we would use UTF-8 by default as per PEP 686\n",
      "  with zopen(filename, mode=\"wt\") as file:\n",
      "C:\\Users\\andyp\\anaconda3\\envs\\Vaspnest\\lib\\site-packages\\numpy\\core\\fromnumeric.py:59: FutureWarning: 'Series.swapaxes' is deprecated and will be removed in a future version. Please use 'Series.transpose' instead.\n",
      "  return bound(*args, **kwds)\n"
     ]
    },
    {
     "name": "stdout",
     "output_type": "stream",
     "text": [
      "Unaverageness:  34.271871848499906\n",
      "Bonding matrix distance:  3.6037033420882163  Unaverageness:  34.271871848499906\n"
     ]
    },
    {
     "name": "stderr",
     "output_type": "stream",
     "text": [
      "C:\\Users\\andyp\\anaconda3\\envs\\Vaspnest\\lib\\site-packages\\pymatgen\\core\\structure.py:3116: EncodingWarning: We strongly encourage explicit `encoding`, and we would use UTF-8 by default as per PEP 686\n",
      "  with zopen(filename, mode=\"rt\", errors=\"replace\") as file:\n",
      "C:\\Users\\andyp\\anaconda3\\envs\\Vaspnest\\lib\\site-packages\\pymatgen\\io\\cif.py:1290: UserWarning: Issues encountered while parsing CIF: 77 fractional coordinates rounded to ideal values to avoid issues with finite precision.\n",
      "  warnings.warn(\"Issues encountered while parsing CIF: \" + \"\\n\".join(self.warnings))\n",
      "C:\\Users\\andyp\\anaconda3\\envs\\Vaspnest\\lib\\site-packages\\pymatgen\\io\\vasp\\inputs.py:631: EncodingWarning: We strongly encourage explicit `encoding`, and we would use UTF-8 by default as per PEP 686\n",
      "  with zopen(filename, mode=\"wt\") as file:\n"
     ]
    },
    {
     "name": "stdout",
     "output_type": "stream",
     "text": [
      "Reading from file: Verkelis\\no_stropt\\Verkelis_virtual_1.vasp\n"
     ]
    },
    {
     "name": "stderr",
     "output_type": "stream",
     "text": [
      "C:\\Users\\andyp\\anaconda3\\envs\\Vaspnest\\lib\\site-packages\\numpy\\core\\fromnumeric.py:59: FutureWarning: 'Series.swapaxes' is deprecated and will be removed in a future version. Please use 'Series.transpose' instead.\n",
      "  return bound(*args, **kwds)\n"
     ]
    },
    {
     "name": "stdout",
     "output_type": "stream",
     "text": [
      "Unaverageness:  34.33017914313877\n",
      "Bonding matrix distance:  3.6037033420882163  Unaverageness:  34.33017914313877\n",
      "Summary of results written to _operations/VirtualLibrary.csv\n"
     ]
    }
   ],
   "source": [
    "from poshcar.disorder import VirtualLibrary, cif2vasp_occ\n",
    "from sklearn.linear_model import LinearRegression\n",
    "from pymatgen.core.structure import Structure\n",
    "import matplotlib.pyplot as plt\n",
    "import numpy as np\n",
    "from pathlib import Path\n",
    "\n",
    "# Loop over files in session\n",
    "disordered_cifs = Path(\"_disordered_cifs\")\n",
    "\n",
    "# Function to format chemical formula with subscripts\n",
    "def format_formula(formula):\n",
    "    return ''.join([f'{char}' if not char.isdigit() else f'$_{{{char}}}$' for char in formula])\n",
    "\n",
    "for cif_file in disordered_cifs.glob(\"*.cif\"):\n",
    "    header = cif_file.stem  # Extract filename without extension\n",
    "    jobdone_path = Path(header) / \"_JOBDONE\"\n",
    "\n",
    "    # Proceed only if _JOBDONE exists\n",
    "    if jobdone_path.exists():\n",
    "        structure = Structure.from_file(cif_file)\n",
    "        chemical_formula = structure.composition.reduced_formula\n",
    "        formatted_formula = format_formula(chemical_formula)\n",
    "\n",
    "        targetdata = cif2vasp_occ(str(cif_file), verbose=False)\n",
    "\n",
    "        for branch in [\"stropt\", \"no_stropt\"]:\n",
    "            branch_path = Path(header) / branch\n",
    "            datalist, summary_df = VirtualLibrary(branch_path, targetdata, pauling_weight=1, structure_opt=False, verbose=False)\n",
    "            summary_df.to_csv(branch_path / \"connectivity.csv\")\n",
    "\n",
    "            # Plotting segment\n",
    "            x = np.array(summary_df['BondDiff']).reshape(-1, 1)\n",
    "            y = np.array(summary_df['FormationEnergy'])\n",
    "\n",
    "            # Perform linear regression\n",
    "            model = LinearRegression()\n",
    "            model.fit(x, y)\n",
    "            y_pred = model.predict(x)\n",
    "\n",
    "            # Calculate R² value\n",
    "            r_sq = model.score(x, y)\n",
    "\n",
    "            # Sort data for smooth plotting\n",
    "            sorted_indices = np.argsort(summary_df['BondDiff'])\n",
    "            x_sorted = np.array(summary_df['BondDiff'])[sorted_indices]\n",
    "            y_pred_sorted = y_pred[sorted_indices]\n",
    "\n",
    "            # Scatterplot with best-fit line\n",
    "            plt.figure(figsize=(4, 4))\n",
    "            plt.scatter(summary_df['BondDiff'], summary_df['FormationEnergy'], color='blue', alpha=0.7, label='Data')\n",
    "            plt.plot(x_sorted, y_pred_sorted, color='grey', linestyle='--', linewidth=2, label=f'Fit (R²={r_sq:.2f})', zorder=2)\n",
    "\n",
    "            # Labels and title\n",
    "            plt.xlabel('Bonding deviation ΔB$_{{{P5}}}$', fontsize=14)\n",
    "            plt.ylabel('Formation Energy (eV/at.)', fontsize=14)\n",
    "            plt.title(f'{formatted_formula}', fontsize=16)\n",
    "\n",
    "            # Display R² value on the plot\n",
    "            plt.text(0.05, 0.9, f\"R² = {r_sq:.2f}\", fontsize=14, color='black', transform=plt.gca().transAxes)\n",
    "\n",
    "            # Grid and legend\n",
    "            plt.grid(True, linestyle='--', alpha=0.5)\n",
    "            plt.legend()\n",
    "\n",
    "            # Save the plot as a .png file\n",
    "            plt.savefig(branch_path / \"scatterplot.png\", dpi=300, bbox_inches='tight')\n",
    "            plt.close()\n"
   ]
  },
  {
   "cell_type": "code",
   "execution_count": null,
   "id": "0c5639d5-0390-4298-ae21-0b67122dee7e",
   "metadata": {},
   "outputs": [],
   "source": []
  }
 ],
 "metadata": {
  "kernelspec": {
   "display_name": "Python 3 (ipykernel)",
   "language": "python",
   "name": "python3"
  },
  "language_info": {
   "codemirror_mode": {
    "name": "ipython",
    "version": 3
   },
   "file_extension": ".py",
   "mimetype": "text/x-python",
   "name": "python",
   "nbconvert_exporter": "python",
   "pygments_lexer": "ipython3",
   "version": "3.10.13"
  }
 },
 "nbformat": 4,
 "nbformat_minor": 5
}
