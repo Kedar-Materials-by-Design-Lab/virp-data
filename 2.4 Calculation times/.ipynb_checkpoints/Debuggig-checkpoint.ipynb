{
 "cells": [
  {
   "cell_type": "code",
   "execution_count": 1,
   "id": "901bb9dc-72f9-4bda-9207-19965ee874c3",
   "metadata": {},
   "outputs": [
    {
     "name": "stdout",
     "output_type": "stream",
     "text": [
      "CHGNet v0.3.0 initialized with 412,525 parameters\n",
      "CHGNet will run on cpu\n",
      "Processing .cif file: _disordered_cifs\\HEA.cif\n",
      "Directory created at: HEA\n",
      "Supercell created and saved as  HEA\\HEA_supercell.cif\n",
      "Generating virtual cell # 0 :\n",
      "Disordered site name:  Ta1\n",
      "- Number of elements in this site:  5\n",
      "- Number of sites in supercell:  54\n",
      "- Atoms and site assignment (float/rounded):  [('Hf0+', 10.8, 11), ('Zr0+', 10.8, 11), ('Ta0+', 10.8, 10), ('Ti0+', 10.8, 11), ('Mo0+', 10.8, 11)]\n",
      "- No of filled sites:  54 / 54\n",
      "All cells generated (see _JOBDONE file).\n",
      "Results saved to virp_session_summary.csv\n"
     ]
    },
    {
     "name": "stderr",
     "output_type": "stream",
     "text": [
      "C:\\Users\\andyp\\anaconda3\\envs\\Vaspnest\\lib\\site-packages\\pymatgen\\core\\structure.py:3116: EncodingWarning: We strongly encourage explicit `encoding`, and we would use UTF-8 by default as per PEP 686\n",
      "  with zopen(filename, mode=\"rt\", errors=\"replace\") as file:\n"
     ]
    }
   ],
   "source": [
    "from virp import Session\n",
    "Session(supercell=[3,3,3], no_of_samples = 1)"
   ]
  },
  {
   "cell_type": "code",
   "execution_count": 4,
   "id": "fe86f9e7-6755-4fef-a60a-932ca605ae23",
   "metadata": {},
   "outputs": [
    {
     "name": "stdout",
     "output_type": "stream",
     "text": [
      "_disordered_cifs\\HEA.cif\n"
     ]
    }
   ],
   "source": [
    "from pathlib import Path\n",
    "for filename in Path(\"_disordered_cifs/\").glob(\"*.cif\"): print(filename)"
   ]
  },
  {
   "cell_type": "code",
   "execution_count": 1,
   "id": "abf025e1-9ed2-4cc9-84e0-d4ebbb120d20",
   "metadata": {},
   "outputs": [
    {
     "name": "stdout",
     "output_type": "stream",
     "text": [
      "CHGNet v0.3.0 initialized with 412,525 parameters\n",
      "CHGNet will run on cpu\n",
      "Hanada_virtual_0_stropt\n",
      "Error processing Hanada\\stropt\\Hanada_virtual_0_stropt.cif: Buffer dtype mismatch, expected 'const int64_t' but got 'long'\n",
      "Results saved to matprop_test.csv\n"
     ]
    },
    {
     "name": "stderr",
     "output_type": "stream",
     "text": [
      "C:\\Users\\andyp\\anaconda3\\envs\\Vaspnest\\lib\\site-packages\\matgl\\utils\\io.py:116: FutureWarning: You are using `torch.load` with `weights_only=False` (the current default value), which uses the default pickle module implicitly. It is possible to construct malicious pickle data which will execute arbitrary code during unpickling (See https://github.com/pytorch/pytorch/blob/main/SECURITY.md#untrusted-models for more details). In a future release, the default value for `weights_only` will be flipped to `True`. This limits the functions that could be executed during unpickling. Arbitrary objects will no longer be allowed to be loaded via this mode unless they are explicitly allowlisted by the user via `torch.serialization.add_safe_globals`. We recommend you start setting `weights_only=True` for any use case where you don't have full control of the loaded file. Please open an issue on GitHub for any issues related to this experimental feature.\n",
      "  state = torch.load(fpaths[\"state.pt\"], map_location=map_location)\n",
      "C:\\Users\\andyp\\anaconda3\\envs\\Vaspnest\\lib\\site-packages\\matgl\\utils\\io.py:117: FutureWarning: You are using `torch.load` with `weights_only=False` (the current default value), which uses the default pickle module implicitly. It is possible to construct malicious pickle data which will execute arbitrary code during unpickling (See https://github.com/pytorch/pytorch/blob/main/SECURITY.md#untrusted-models for more details). In a future release, the default value for `weights_only` will be flipped to `True`. This limits the functions that could be executed during unpickling. Arbitrary objects will no longer be allowed to be loaded via this mode unless they are explicitly allowlisted by the user via `torch.serialization.add_safe_globals`. We recommend you start setting `weights_only=True` for any use case where you don't have full control of the loaded file. Please open an issue on GitHub for any issues related to this experimental feature.\n",
      "  d = torch.load(fpaths[\"model.pt\"], map_location=map_location)\n",
      "C:\\Users\\andyp\\anaconda3\\envs\\Vaspnest\\lib\\site-packages\\matgl\\utils\\io.py:126: UserWarning: Incompatible model version detected! The code will continue to load the model but it is recommended that you provide a path to an updated model, increment your @model_version in model.json if you are confident that the changes are not problematic, or clear your ~/.matgl cache using `python -c \"import matgl; matgl.clear_cache()\"`\n",
      "  _check_ver(cls_, v)  # Check version of any subclasses too.\n",
      "C:\\Users\\andyp\\anaconda3\\envs\\Vaspnest\\lib\\site-packages\\pymatgen\\core\\structure.py:3116: EncodingWarning: We strongly encourage explicit `encoding`, and we would use UTF-8 by default as per PEP 686\n",
      "  with zopen(filename, mode=\"rt\", errors=\"replace\") as file:\n"
     ]
    }
   ],
   "source": [
    "from virp.matprop import VirtualCellProperties as vcp\n",
    "vcp(\"Hanada\\\\stropt\",\"matprop_test.csv\")"
   ]
  },
  {
   "cell_type": "code",
   "execution_count": null,
   "id": "f0737f32-4787-4e97-b207-29a88db5f2d2",
   "metadata": {},
   "outputs": [],
   "source": []
  }
 ],
 "metadata": {
  "kernelspec": {
   "display_name": "Python 3 (ipykernel)",
   "language": "python",
   "name": "python3"
  },
  "language_info": {
   "codemirror_mode": {
    "name": "ipython",
    "version": 3
   },
   "file_extension": ".py",
   "mimetype": "text/x-python",
   "name": "python",
   "nbconvert_exporter": "python",
   "pygments_lexer": "ipython3",
   "version": "3.10.13"
  }
 },
 "nbformat": 4,
 "nbformat_minor": 5
}
