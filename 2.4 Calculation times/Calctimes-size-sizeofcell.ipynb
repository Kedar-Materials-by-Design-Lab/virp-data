{
 "cells": [
  {
   "cell_type": "code",
   "execution_count": 16,
   "id": "0f95554e-10b3-4aa3-b96a-3bda52f8d43e",
   "metadata": {},
   "outputs": [],
   "source": [
    "from pymatgen.core.structure import Structure\n",
    "from chgnet.model import StructOptimizer\n",
    "from itertools import product\n",
    "from virp import *\n",
    "from pathlib import Path\n",
    "import numpy as np\n",
    "import pandas as pd\n",
    "import warnings\n",
    "import random\n",
    "import math\n",
    "import re\n",
    "import os"
   ]
  },
  {
   "cell_type": "code",
   "execution_count": 10,
   "id": "f59d3a44-7203-40b0-8af3-967fff2ff515",
   "metadata": {},
   "outputs": [
    {
     "name": "stdout",
     "output_type": "stream",
     "text": [
      "CHGNet v0.3.0 initialized with 412,525 parameters\n",
      "CHGNet will run on cpu\n"
     ]
    }
   ],
   "source": [
    "opt = StructOptimizer()"
   ]
  },
  {
   "cell_type": "code",
   "execution_count": 11,
   "id": "e4e30e8e-0f05-446d-b848-7e068baf3d41",
   "metadata": {},
   "outputs": [],
   "source": [
    "from pymatgen.core import Structure\n",
    "from pymatgen.io.cif import CifParser\n",
    "\n",
    "def count_atoms_in_cif(cif_file):\n",
    "    try:\n",
    "        structure = Structure.from_file(cif_file)\n",
    "        num_atoms = len(structure.sites)\n",
    "        print(f\"Number of atoms in {cif_file}: {num_atoms}\")\n",
    "    except Exception as e:\n",
    "        print(f\"Error reading CIF file: {e}\")"
   ]
  },
  {
   "cell_type": "code",
   "execution_count": 17,
   "id": "f1dc6978-93d7-4345-8bfc-190fedd71cc4",
   "metadata": {},
   "outputs": [],
   "source": [
    "# interim function\n",
    "\n",
    "def SampleVirtualCells(input_cif, supercell, sample_size=400):\n",
    "    \"\"\"\n",
    "    Given a disordered .cif file, create an output folder\n",
    "    containing a number (sample_size) of virtual cells\n",
    "    \n",
    "    Args:\n",
    "        input_cif (str): Path to .cif (disordered)\n",
    "        supercell [int,int,int]: multiplicity of supercell\n",
    "        sample_size (int): Number of virtual cells to generate (default is 400)\n",
    "        \n",
    "    Returns:\n",
    "        void\n",
    "    \"\"\"\n",
    "\n",
    "    # Suppress warnings in this block\n",
    "    with warnings.catch_warnings():\n",
    "        warnings.simplefilter(\"ignore\")\n",
    "\n",
    "        # Make output folder directory\n",
    "        fname = Path(input_cif).stem\n",
    "        Path(fname).mkdir(exist_ok=True)  # `exist_ok=True` avoids errors if the directory exists.\n",
    "        print(f\"Directory created at: {fname}\")\n",
    "\n",
    "        header = Path(fname) / fname\n",
    "        sc_file = str(header) + \"_supercell.cif\"\n",
    "\n",
    "        # Make the supercell\n",
    "        CIFSupercell(input_cif, sc_file, supercell)\n",
    "\n",
    "        # Create target folders if they don't exist\n",
    "        no_stropt_path = Path(fname) / \"no_stropt\"\n",
    "        Path(no_stropt_path).mkdir(exist_ok=True)  # non-structure-optimized cells\n",
    "\n",
    "        # Execution\n",
    "        for i in range(sample_size):\n",
    "            # Permutative fill only, no structure optimization\n",
    "            pfill_file_name = fname+\"_virtual_\"+str(i)+\".cif\"\n",
    "            pfill_file = Path(no_stropt_path) / pfill_file_name\n",
    "            PermutativeFill(sc_file, pfill_file, verbose = True if i == 0 else False)\n",
    "            print(f\"\\rGenerating virtual cell #{i} ({i+1}/{sample_size})\", end=\"\", flush=True)\n",
    "        \n",
    "        with open(Path(fname) / \"_JOBDONE\", 'w') as file: pass # make an empty file signalling completion\n",
    "        print(\"\\nAll cells generated (see _JOBDONE file).\")"
   ]
  },
  {
   "cell_type": "markdown",
   "id": "923093a9-7996-4a27-b561-9742f616b2f6",
   "metadata": {},
   "source": [
    "## Count number of atoms in supercell"
   ]
  },
  {
   "cell_type": "code",
   "execution_count": 18,
   "id": "7c335d2e-1454-4996-9235-903f8be8dcfd",
   "metadata": {},
   "outputs": [
    {
     "name": "stdout",
     "output_type": "stream",
     "text": [
      "Directory created at: Spinel\n",
      "Supercell created and saved as  Spinel\\Spinel_supercell.cif\n",
      "Disordered site name:  V3\n",
      "- Number of elements in this site:  2\n",
      "- Number of sites in supercell:  64\n",
      "- Atoms and site assignment (float/rounded):  [('V', 42.6688, 43), ('Zn', 10.88, 11)]\n",
      "- No of filled sites:  54 / 64\n",
      "Generating virtual cell #0 (1/1)\n",
      "All cells generated (see _JOBDONE file).\n",
      "Number of atoms in Spinel\\no_stropt\\Spinel_virtual_0.cif: 214\n"
     ]
    },
    {
     "name": "stderr",
     "output_type": "stream",
     "text": [
      "C:\\Users\\andyp\\anaconda3\\envs\\Vaspnest\\lib\\site-packages\\pymatgen\\core\\structure.py:3116: EncodingWarning: We strongly encourage explicit `encoding`, and we would use UTF-8 by default as per PEP 686\n",
      "  with zopen(filename, mode=\"rt\", errors=\"replace\") as file:\n"
     ]
    }
   ],
   "source": [
    "system = \"Spinel\"\n",
    "input_cif = \"_disordered_cifs_Basic7\\\\\"+system+\".cif\"\n",
    "supercell = [2,2,1]\n",
    "SampleVirtualCells(input_cif, supercell, sample_size=1)\n",
    "count_atoms_in_cif(system+\"\\\\no_stropt\\\\\"+system+\"_virtual_0.cif\")"
   ]
  },
  {
   "cell_type": "code",
   "execution_count": 23,
   "id": "7f16c380-0d6c-49a6-8776-a6c8c2544688",
   "metadata": {},
   "outputs": [
    {
     "name": "stdout",
     "output_type": "stream",
     "text": [
      "Directory created at: Verkelis\n",
      "Supercell created and saved as  Verkelis\\Verkelis_supercell.cif\n",
      "Disordered site name:  In1\n",
      "- Number of elements in this site:  1\n",
      "- Number of sites in supercell:  48\n",
      "- Atoms and site assignment (float/rounded):  [('In', 32.160000000000004, 32)]\n",
      "- No of filled sites:  32 / 48\n",
      "Generating virtual cell #0 (1/1)\n",
      "All cells generated (see _JOBDONE file).\n",
      "Number of atoms in Verkelis\\no_stropt\\Verkelis_virtual_0.cif: 80\n"
     ]
    },
    {
     "name": "stderr",
     "output_type": "stream",
     "text": [
      "C:\\Users\\andyp\\anaconda3\\envs\\Vaspnest\\lib\\site-packages\\pymatgen\\core\\structure.py:3116: EncodingWarning: We strongly encourage explicit `encoding`, and we would use UTF-8 by default as per PEP 686\n",
      "  with zopen(filename, mode=\"rt\", errors=\"replace\") as file:\n",
      "C:\\Users\\andyp\\anaconda3\\envs\\Vaspnest\\lib\\site-packages\\pymatgen\\io\\cif.py:1290: UserWarning: Issues encountered while parsing CIF: 10 fractional coordinates rounded to ideal values to avoid issues with finite precision.\n",
      "  warnings.warn(\"Issues encountered while parsing CIF: \" + \"\\n\".join(self.warnings))\n"
     ]
    }
   ],
   "source": [
    "system = \"Verkelis\"\n",
    "input_cif = \"_disordered_cifs_Basic7\\\\\"+system+\".cif\"\n",
    "supercell = [3,2,2]\n",
    "SampleVirtualCells(input_cif, supercell, sample_size=1)\n",
    "count_atoms_in_cif(system+\"\\\\no_stropt\\\\\"+system+\"_virtual_0.cif\")"
   ]
  },
  {
   "cell_type": "code",
   "execution_count": 26,
   "id": "7f9b6237-0aa5-444a-884a-d66f21ffb891",
   "metadata": {},
   "outputs": [
    {
     "name": "stdout",
     "output_type": "stream",
     "text": [
      "Directory created at: CoFe\n",
      "Supercell created and saved as  CoFe\\CoFe_supercell.cif\n",
      "Disordered site name:  Co1\n",
      "- Number of elements in this site:  2\n",
      "- Number of sites in supercell:  8\n",
      "- Atoms and site assignment (float/rounded):  [('Fe0+', 5.6, 6), ('Co0+', 2.4, 2)]\n",
      "- No of filled sites:  8 / 8\n",
      "Generating virtual cell #0 (1/1)\n",
      "All cells generated (see _JOBDONE file).\n",
      "Number of atoms in CoFe\\no_stropt\\CoFe_virtual_0.cif: 8\n"
     ]
    },
    {
     "name": "stderr",
     "output_type": "stream",
     "text": [
      "C:\\Users\\andyp\\anaconda3\\envs\\Vaspnest\\lib\\site-packages\\pymatgen\\core\\structure.py:3116: EncodingWarning: We strongly encourage explicit `encoding`, and we would use UTF-8 by default as per PEP 686\n",
      "  with zopen(filename, mode=\"rt\", errors=\"replace\") as file:\n",
      "C:\\Users\\andyp\\anaconda3\\envs\\Vaspnest\\lib\\site-packages\\pymatgen\\io\\cif.py:1224: UserWarning: Incorrect stoichiometry:\n",
      "  CIF={'Fe': 5.6, 'Co': 2.4}\n",
      "  PMG={'Fe': 6.0, 'Co': 2.0}\n",
      "  ratios={'Fe': 1.0714285714285714, 'Co': 0.8333333333333334}\n",
      "  warnings.warn(cif_failure_reason)\n"
     ]
    }
   ],
   "source": [
    "system = \"CoFe\"\n",
    "input_cif = \"_disordered_cifs_Basic7\\\\\"+system+\".cif\"\n",
    "supercell = [1,2,2]\n",
    "SampleVirtualCells(input_cif, supercell, sample_size=1)\n",
    "count_atoms_in_cif(system+\"\\\\no_stropt\\\\\"+system+\"_virtual_0.cif\")"
   ]
  },
  {
   "cell_type": "code",
   "execution_count": 36,
   "id": "27fe4ea8-6ff0-422a-b476-3e49492a293f",
   "metadata": {},
   "outputs": [
    {
     "name": "stdout",
     "output_type": "stream",
     "text": [
      "Directory created at: Gehlenite\n",
      "Supercell created and saved as  Gehlenite\\Gehlenite_supercell.cif\n",
      "Disordered site name:  SiT2\n",
      "- Number of elements in this site:  2\n",
      "- Number of sites in supercell:  48\n",
      "- Atoms and site assignment (float/rounded):  [('Al0+', 24.0, 24), ('Si0+', 24.0, 24)]\n",
      "- No of filled sites:  48 / 48\n",
      "Generating virtual cell #0 (1/1)\n",
      "All cells generated (see _JOBDONE file).\n"
     ]
    },
    {
     "name": "stderr",
     "output_type": "stream",
     "text": [
      "C:\\Users\\andyp\\anaconda3\\envs\\Vaspnest\\lib\\site-packages\\pymatgen\\core\\structure.py:3116: EncodingWarning: We strongly encourage explicit `encoding`, and we would use UTF-8 by default as per PEP 686\n",
      "  with zopen(filename, mode=\"rt\", errors=\"replace\") as file:\n"
     ]
    },
    {
     "name": "stdout",
     "output_type": "stream",
     "text": [
      "Number of atoms in Gehlenite\\no_stropt\\Gehlenite_virtual_0.cif: 288\n"
     ]
    },
    {
     "name": "stderr",
     "output_type": "stream",
     "text": [
      "C:\\Users\\andyp\\anaconda3\\envs\\Vaspnest\\lib\\site-packages\\pymatgen\\io\\cif.py:1290: UserWarning: Issues encountered while parsing CIF: 16 fractional coordinates rounded to ideal values to avoid issues with finite precision.\n",
      "  warnings.warn(\"Issues encountered while parsing CIF: \" + \"\\n\".join(self.warnings))\n"
     ]
    }
   ],
   "source": [
    "system = \"Gehlenite\"\n",
    "input_cif = \"_disordered_cifs_Basic7\\\\\"+system+\".cif\"\n",
    "supercell = [2,2,3]\n",
    "SampleVirtualCells(input_cif, supercell, sample_size=1)\n",
    "count_atoms_in_cif(system+\"\\\\no_stropt\\\\\"+system+\"_virtual_0.cif\")"
   ]
  },
  {
   "cell_type": "code",
   "execution_count": 42,
   "id": "c05370c9-d9c4-4d5b-b1c0-f1ad4f23f5fa",
   "metadata": {},
   "outputs": [
    {
     "name": "stdout",
     "output_type": "stream",
     "text": [
      "Directory created at: HEA\n",
      "Supercell created and saved as  HEA\\HEA_supercell.cif\n",
      "Disordered site name:  Ta1\n",
      "- Number of elements in this site:  5\n",
      "- Number of sites in supercell:  24\n",
      "- Atoms and site assignment (float/rounded):  [('Hf0+', 4.800000000000001, 5), ('Zr0+', 4.800000000000001, 5), ('Ta0+', 4.800000000000001, 4), ('Ti0+', 4.800000000000001, 5), ('Mo0+', 4.800000000000001, 5)]\n",
      "- No of filled sites:  24 / 24\n",
      "Disordered site name:  H1\n",
      "- Number of elements in this site:  1\n",
      "- Number of sites in supercell:  48\n",
      "- Atoms and site assignment (float/rounded):  [('H0+', 36.0, 36)]\n",
      "- No of filled sites:  36 / 48\n",
      "Generating virtual cell #0 (1/1)\n",
      "All cells generated (see _JOBDONE file).\n",
      "Number of atoms in HEA\\no_stropt\\HEA_virtual_0.cif: 60\n"
     ]
    },
    {
     "name": "stderr",
     "output_type": "stream",
     "text": [
      "C:\\Users\\andyp\\anaconda3\\envs\\Vaspnest\\lib\\site-packages\\pymatgen\\core\\structure.py:3116: EncodingWarning: We strongly encourage explicit `encoding`, and we would use UTF-8 by default as per PEP 686\n",
      "  with zopen(filename, mode=\"rt\", errors=\"replace\") as file:\n",
      "C:\\Users\\andyp\\anaconda3\\envs\\Vaspnest\\lib\\site-packages\\pymatgen\\io\\cif.py:1224: UserWarning: Incorrect stoichiometry:\n",
      "  CIF={'Hf': 4.8, 'Zr': 4.8, 'Ta': 4.8, 'Ti': 4.8, 'Mo': 4.8, 'H': 36.0}\n",
      "  PMG={'Hf': 5.0, 'Zr': 5.0, 'Ta': 4.0, 'Ti': 5.0, 'Mo': 5.0, 'H': 36.0}\n",
      "  ratios={'H': 1.0, 'Zr': 1.0416666666666667, 'Hf': 1.0416666666666667, 'Ta': 0.8333333333333334, 'Ti': 1.0416666666666667, 'Mo': 1.0416666666666667}\n",
      "  warnings.warn(cif_failure_reason)\n",
      "C:\\Users\\andyp\\anaconda3\\envs\\Vaspnest\\lib\\site-packages\\pymatgen\\io\\cif.py:1290: UserWarning: Issues encountered while parsing CIF: 8 fractional coordinates rounded to ideal values to avoid issues with finite precision.\n",
      "  warnings.warn(\"Issues encountered while parsing CIF: \" + \"\\n\".join(self.warnings))\n"
     ]
    }
   ],
   "source": [
    "system = \"HEA\"\n",
    "input_cif = \"_disordered_cifs_Basic7\\\\\"+system+\".cif\"\n",
    "supercell = [2,2,3]\n",
    "SampleVirtualCells(input_cif, supercell, sample_size=1)\n",
    "count_atoms_in_cif(system+\"\\\\no_stropt\\\\\"+system+\"_virtual_0.cif\")"
   ]
  },
  {
   "cell_type": "code",
   "execution_count": 45,
   "id": "4b910312-090a-4ac1-bf12-7d4adbc49e5e",
   "metadata": {},
   "outputs": [
    {
     "name": "stdout",
     "output_type": "stream",
     "text": [
      "Directory created at: Hanada\n",
      "Supercell created and saved as  Hanada\\Hanada_supercell.cif\n",
      "Disordered site name:  In\n",
      "- Number of elements in this site:  1\n",
      "- Number of sites in supercell:  16\n",
      "- Atoms and site assignment (float/rounded):  [('In', 6.4, 6)]\n",
      "- No of filled sites:  6 / 16\n",
      "Disordered site name:  Cu\n",
      "- Number of elements in this site:  1\n",
      "- Number of sites in supercell:  16\n",
      "- Atoms and site assignment (float/rounded):  [('Cu', 12.8, 13)]\n",
      "- No of filled sites:  13 / 16\n",
      "Generating virtual cell #0 (1/1)\n",
      "All cells generated (see _JOBDONE file).\n",
      "Number of atoms in Hanada\\no_stropt\\Hanada_virtual_0.cif: 115\n"
     ]
    },
    {
     "name": "stderr",
     "output_type": "stream",
     "text": [
      "C:\\Users\\andyp\\anaconda3\\envs\\Vaspnest\\lib\\site-packages\\pymatgen\\core\\structure.py:3116: EncodingWarning: We strongly encourage explicit `encoding`, and we would use UTF-8 by default as per PEP 686\n",
      "  with zopen(filename, mode=\"rt\", errors=\"replace\") as file:\n",
      "C:\\Users\\andyp\\anaconda3\\envs\\Vaspnest\\lib\\site-packages\\pymatgen\\io\\cif.py:1224: UserWarning: Incorrect stoichiometry:\n",
      "  CIF={'In': 38.4, 'Cu': 12.8, 'Se': 64.0}\n",
      "  PMG={'In': 38.0, 'Cu': 13.0, 'Se': 64.0}\n",
      "  ratios={'In': 0.9895833333333334, 'Cu': 1.015625, 'Se': 1.0}\n",
      "  warnings.warn(cif_failure_reason)\n"
     ]
    }
   ],
   "source": [
    "system = \"Hanada\"\n",
    "input_cif = \"_disordered_cifs_Basic7\\\\\"+system+\".cif\"\n",
    "supercell = [2,2,2]\n",
    "SampleVirtualCells(input_cif, supercell, sample_size=1)\n",
    "count_atoms_in_cif(system+\"\\\\no_stropt\\\\\"+system+\"_virtual_0.cif\")"
   ]
  },
  {
   "cell_type": "code",
   "execution_count": null,
   "id": "4634f617-6a77-47d3-8265-c4a66661dec2",
   "metadata": {},
   "outputs": [],
   "source": []
  }
 ],
 "metadata": {
  "kernelspec": {
   "display_name": "Python 3 (ipykernel)",
   "language": "python",
   "name": "python3"
  },
  "language_info": {
   "codemirror_mode": {
    "name": "ipython",
    "version": 3
   },
   "file_extension": ".py",
   "mimetype": "text/x-python",
   "name": "python",
   "nbconvert_exporter": "python",
   "pygments_lexer": "ipython3",
   "version": "3.10.13"
  }
 },
 "nbformat": 4,
 "nbformat_minor": 5
}
