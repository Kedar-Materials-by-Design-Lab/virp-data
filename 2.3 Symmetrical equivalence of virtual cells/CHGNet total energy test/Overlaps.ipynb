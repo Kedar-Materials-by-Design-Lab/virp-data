{
 "cells": [
  {
   "cell_type": "markdown",
   "id": "fbd510d3-8391-438f-871c-ba9059ef3773",
   "metadata": {},
   "source": [
    "# Function to eval total energies (for degeneracy); Initial runs"
   ]
  },
  {
   "cell_type": "code",
   "execution_count": 1,
   "id": "8d13481a-cacf-4a82-8aee-e79c6f9f80a0",
   "metadata": {},
   "outputs": [
    {
     "name": "stdout",
     "output_type": "stream",
     "text": [
      "CHGNet v0.3.0 initialized with 412,525 parameters\n",
      "CHGNet will run on cuda\n"
     ]
    }
   ],
   "source": [
    "from virp import PermutativeFill\n",
    "from pymatgen.core.structure import Structure\n",
    "from chgnet.model.model import CHGNet\n",
    "import warnings\n",
    "from pathlib import Path\n",
    "import pandas as pd\n",
    "import numpy as np\n",
    "\n",
    "# Load CHGNET zeropoint\n",
    "model = CHGNet.load()\n",
    "\n",
    "def CIFSupercell (inputcif, outputcif, supercellsize, verbose = True):\n",
    "    # inputcif, outputcif: path to cif file\n",
    "    # supercellsize: vector of 3 integers\n",
    "\n",
    "    # Load the structure from a CIF file\n",
    "    structure = Structure.from_file(inputcif)\n",
    "\n",
    "    # Define the scaling matrix for the supercell\n",
    "    # For example, [2, 0, 0], [0, 2, 0], [0, 0, 2] creates a 2x2x2 supercell\n",
    "    scaling_matrix = [[supercellsize[0], 0, 0], \n",
    "                      [0, supercellsize[1], 0], \n",
    "                      [0, 0, supercellsize[2]]]\n",
    "\n",
    "    # Create the supercell\n",
    "    structure.make_supercell(scaling_matrix)\n",
    "\n",
    "    # Save the supercell to a new CIF file (optional)\n",
    "    structure.to(fmt=\"cif\", filename=outputcif)\n",
    "    if verbose: print(\"Supercell created and saved as \", outputcif)\n",
    "\n",
    "\n",
    "def EquivalentStructures(csv_path):\n",
    "    # Read CSV and sort by FormationEnergy\n",
    "    df = pd.read_csv(csv_path)\n",
    "    number_rows = df.shape[0]\n",
    "    df_sorted = df.sort_values(by='Total Energy (eV)').reset_index(drop=True)\n",
    "    \n",
    "    # Convert FormationEnergy values to strings\n",
    "    energy_strings = df_sorted['Total Energy (eV)'].astype(str)\n",
    "    \n",
    "    # Count exact string matches between adjacent terms\n",
    "    overlaps = sum(energy_strings.iloc[i] == energy_strings.iloc[i+1] for i in range(len(energy_strings)-1))\n",
    "    percentage = 100*overlaps/number_rows\n",
    "    \n",
    "    print(f\" - Number of redundant structures: {overlaps}/{number_rows} ({percentage:.2f}%)\")\n",
    "    return overlaps\n",
    "\n",
    "def SVC(input_cif, supercell, fname, sample_size=400, chgnetmodel = model):\n",
    "    \"\"\"\n",
    "    Given a disordered .cif file, create an output folder\n",
    "    containing a number (sample_size) of virtual cells\n",
    "    \n",
    "    Args:\n",
    "        input_cif (str): Path to .cif (disordered)\n",
    "        supercell [int,int,int]: multiplicity of supercell\n",
    "        sample_size (int): Number of virtual cells to generate (default is 400)\n",
    "        \n",
    "    Returns:\n",
    "        void\n",
    "    \"\"\"\n",
    "\n",
    "    # Suppress warnings in this block\n",
    "    with warnings.catch_warnings():\n",
    "        warnings.simplefilter(\"ignore\")\n",
    "\n",
    "        # Init data\n",
    "        data = []\n",
    "\n",
    "        # Make output folder directory\n",
    "        Path(fname).mkdir(exist_ok=True)  # `exist_ok=True` avoids errors if the directory exists.\n",
    "\n",
    "        # Make the supercell\n",
    "        sc_file = Path(fname) / (str(Path(fname)) + \"_supercell.cif\")\n",
    "        CIFSupercell(input_cif, sc_file, supercell, verbose = False)\n",
    "\n",
    "        # Execution\n",
    "        for i in range(sample_size):\n",
    "            # Permutative fill only, no structure optimization\n",
    "            pfill_file = Path(fname) / Path(\"_virtual_\"+str(i)+\".cif\")\n",
    "            PermutativeFill(sc_file, pfill_file, verbose = False)\n",
    "            print(f\"\\rGenerating virtual cell #{i} ({i+1}/{sample_size})\", end=\"\", flush=True)\n",
    "\n",
    "            # Predict total energy\n",
    "            structure = Structure.from_file(pfill_file)\n",
    "            prediction = model.predict_structure(structure)\n",
    "            total_energy = prediction[\"e\"]  # Energy in eV\n",
    "\n",
    "            # data append\n",
    "            data.append({\n",
    "                \"virtual-id\": i,\n",
    "                \"Total Energy (eV)\": total_energy,\n",
    "            })\n",
    "\n",
    "        # Create a DataFrame\n",
    "        df = pd.DataFrame(data)\n",
    "\n",
    "        # Save the DataFrame to a CSV file\n",
    "        output_file = Path(fname) / \"total_energies.csv\"\n",
    "        df.to_csv(output_file, index = False)\n",
    "\n",
    "        # Perform enumeration\n",
    "        overlaps = EquivalentStructures(output_file)\n",
    "        \n",
    "        with open(Path(fname) / \"_JOBDONE\", 'w') as file: pass # make an empty file signalling completion\n",
    "\n",
    "        return overlaps"
   ]
  },
  {
   "cell_type": "markdown",
   "id": "80fb7997-f87b-4407-b353-a62e1d53bf86",
   "metadata": {},
   "source": [
    "# Main Body of Code (serious runs)"
   ]
  },
  {
   "cell_type": "code",
   "execution_count": 2,
   "id": "e3499be3-c93d-4108-9872-faef40248259",
   "metadata": {},
   "outputs": [],
   "source": [
    "brass_file = \"197803-brass-Cu62Zn38.cif\""
   ]
  },
  {
   "cell_type": "code",
   "execution_count": 4,
   "id": "627dde90-0c9e-4c28-893b-3a8753de534c",
   "metadata": {},
   "outputs": [],
   "source": [
    "def brass_degenerate(name, sc):\n",
    "    overlaps = []\n",
    "    for i in range(30):\n",
    "        ol = SVC(brass_file, sc, name, sample_size=400, chgnetmodel = model) \n",
    "        overlaps.append(ol)\n",
    "    npol = np.array(overlaps)\n",
    "    print(\"Supercell:\", name, \"Mean: \", np.mean(npol), \"/ std: \", np.std(npol))\n",
    "    return np.mean(npol), np.std(npol)"
   ]
  },
  {
   "cell_type": "code",
   "execution_count": null,
   "id": "f2192a91-6f31-4b4c-b3d3-94005b7e135c",
   "metadata": {},
   "outputs": [
    {
     "name": "stdout",
     "output_type": "stream",
     "text": [
      "Generating virtual cell #399 (400/400) - Number of redundant structures: 398/400 (99.50%)\n",
      "Generating virtual cell #399 (400/400) - Number of redundant structures: 398/400 (99.50%)\n",
      "Generating virtual cell #399 (400/400) - Number of redundant structures: 398/400 (99.50%)\n",
      "Generating virtual cell #399 (400/400) - Number of redundant structures: 398/400 (99.50%)\n",
      "Generating virtual cell #399 (400/400) - Number of redundant structures: 398/400 (99.50%)\n",
      "Generating virtual cell #399 (400/400) - Number of redundant structures: 398/400 (99.50%)\n",
      "Generating virtual cell #399 (400/400) - Number of redundant structures: 398/400 (99.50%)\n",
      "Generating virtual cell #399 (400/400) - Number of redundant structures: 398/400 (99.50%)\n",
      "Generating virtual cell #358 (359/400)"
     ]
    }
   ],
   "source": [
    "name = \"111\"\n",
    "sc = [1,1,1]\n",
    "mean_111, std_111 = brass_degenerate(name, sc)"
   ]
  },
  {
   "cell_type": "code",
   "execution_count": null,
   "id": "6ff7811c-0d48-4c3e-b9c5-b7f95f8f58b7",
   "metadata": {},
   "outputs": [],
   "source": [
    "name = \"211\"\n",
    "sc = [2,1,1]\n",
    "mean_211, std_211 = brass_degenerate(name, sc)"
   ]
  },
  {
   "cell_type": "code",
   "execution_count": null,
   "id": "411065c6-8ff0-417f-a050-9747d76baee2",
   "metadata": {},
   "outputs": [],
   "source": [
    "name = \"221\"\n",
    "sc = [2,2,1]\n",
    "mean_221, std_221 = brass_degenerate(name, sc)"
   ]
  },
  {
   "cell_type": "code",
   "execution_count": null,
   "id": "40e407e9-0235-4a70-99f4-2eeac104689a",
   "metadata": {},
   "outputs": [],
   "source": [
    "name = \"222\"\n",
    "sc = [2,2,2]\n",
    "mean_222, std_222 = brass_degenerate(name, sc)"
   ]
  },
  {
   "cell_type": "code",
   "execution_count": null,
   "id": "1f50ae67-157c-41e3-90ad-5b0b867865ea",
   "metadata": {},
   "outputs": [],
   "source": [
    "name = \"322\"\n",
    "sc = [3,2,2]\n",
    "mean_322, std_322 = brass_degenerate(name, sc)"
   ]
  },
  {
   "cell_type": "code",
   "execution_count": null,
   "id": "a97723f7-f5d9-40ae-a899-ce50696789f8",
   "metadata": {},
   "outputs": [],
   "source": [
    "name = \"332\"\n",
    "sc = [3,3,2]\n",
    "mean_332, std_332 = brass_degenerate(name, sc)"
   ]
  },
  {
   "cell_type": "code",
   "execution_count": null,
   "id": "2b394dec-82b5-459e-b6dd-cd9c2f6b155b",
   "metadata": {},
   "outputs": [],
   "source": [
    "name = \"333\"\n",
    "sc = [3,3,3]\n",
    "mean_333, std_333 = brass_degenerate(name, sc)"
   ]
  },
  {
   "cell_type": "code",
   "execution_count": 5,
   "id": "9efbb720-2a50-47da-a87f-82f499d1731c",
   "metadata": {},
   "outputs": [
    {
     "name": "stdout",
     "output_type": "stream",
     "text": [
      "Generating virtual cell #399 (400/400) - Number of redundant structures: 3/400 (0.75%)\n",
      "Generating virtual cell #399 (400/400) - Number of redundant structures: 7/400 (1.75%)\n",
      "Generating virtual cell #399 (400/400) - Number of redundant structures: 4/400 (1.00%)\n",
      "Generating virtual cell #399 (400/400) - Number of redundant structures: 6/400 (1.50%)\n",
      "Generating virtual cell #399 (400/400) - Number of redundant structures: 5/400 (1.25%)\n",
      "Generating virtual cell #399 (400/400) - Number of redundant structures: 8/400 (2.00%)\n",
      "Generating virtual cell #399 (400/400) - Number of redundant structures: 7/400 (1.75%)\n",
      "Generating virtual cell #399 (400/400) - Number of redundant structures: 5/400 (1.25%)\n",
      "Generating virtual cell #399 (400/400) - Number of redundant structures: 4/400 (1.00%)\n",
      "Generating virtual cell #399 (400/400) - Number of redundant structures: 5/400 (1.25%)\n",
      "Generating virtual cell #399 (400/400) - Number of redundant structures: 11/400 (2.75%)\n",
      "Generating virtual cell #399 (400/400) - Number of redundant structures: 5/400 (1.25%)\n",
      "Generating virtual cell #399 (400/400) - Number of redundant structures: 6/400 (1.50%)\n",
      "Generating virtual cell #399 (400/400) - Number of redundant structures: 3/400 (0.75%)\n",
      "Generating virtual cell #399 (400/400) - Number of redundant structures: 3/400 (0.75%)\n",
      "Generating virtual cell #399 (400/400) - Number of redundant structures: 7/400 (1.75%)\n",
      "Generating virtual cell #399 (400/400) - Number of redundant structures: 2/400 (0.50%)\n",
      "Generating virtual cell #399 (400/400) - Number of redundant structures: 6/400 (1.50%)\n",
      "Generating virtual cell #399 (400/400) - Number of redundant structures: 2/400 (0.50%)\n",
      "Generating virtual cell #399 (400/400) - Number of redundant structures: 2/400 (0.50%)\n",
      "Generating virtual cell #399 (400/400) - Number of redundant structures: 7/400 (1.75%)\n",
      "Generating virtual cell #399 (400/400) - Number of redundant structures: 5/400 (1.25%)\n",
      "Generating virtual cell #399 (400/400) - Number of redundant structures: 6/400 (1.50%)\n",
      "Generating virtual cell #399 (400/400) - Number of redundant structures: 7/400 (1.75%)\n",
      "Generating virtual cell #399 (400/400) - Number of redundant structures: 4/400 (1.00%)\n",
      "Generating virtual cell #399 (400/400) - Number of redundant structures: 8/400 (2.00%)\n",
      "Generating virtual cell #399 (400/400) - Number of redundant structures: 9/400 (2.25%)\n",
      "Generating virtual cell #399 (400/400) - Number of redundant structures: 5/400 (1.25%)\n",
      "Generating virtual cell #399 (400/400) - Number of redundant structures: 3/400 (0.75%)\n",
      "Generating virtual cell #399 (400/400) - Number of redundant structures: 5/400 (1.25%)\n",
      "Supercell: 123 Mean:  5.333333333333333 / std:  2.1343747458109497\n"
     ]
    }
   ],
   "source": [
    "name = \"123\"\n",
    "sc = [1,2,3]\n",
    "mean_123, std_123 = brass_degenerate(name, sc)"
   ]
  },
  {
   "cell_type": "code",
   "execution_count": null,
   "id": "7a1a1056-bfa6-421c-b304-e6be7b1c79d4",
   "metadata": {},
   "outputs": [],
   "source": [
    "name = \"113\"\n",
    "sc = [1,1,3]\n",
    "mean_113, std_113 = brass_degenerate(name, sc)"
   ]
  },
  {
   "cell_type": "code",
   "execution_count": 48,
   "id": "3f922b5b-e653-45e3-b1d7-3f0b58c55cf8",
   "metadata": {},
   "outputs": [
    {
     "name": "stdout",
     "output_type": "stream",
     "text": [
      "398.0 0.0\n"
     ]
    }
   ],
   "source": [
    "print(mean_111,std_111)"
   ]
  },
  {
   "cell_type": "code",
   "execution_count": 49,
   "id": "f08cae3c-02e7-44a9-82ef-6fbd5a9942b9",
   "metadata": {},
   "outputs": [
    {
     "name": "stdout",
     "output_type": "stream",
     "text": [
      "392.8666666666667 0.42687494916219\n"
     ]
    }
   ],
   "source": [
    "print(mean_211,std_211)"
   ]
  },
  {
   "cell_type": "code",
   "execution_count": 50,
   "id": "8775f54a-3e4b-47ae-ae2c-95a22ea25fba",
   "metadata": {},
   "outputs": [
    {
     "name": "stdout",
     "output_type": "stream",
     "text": [
      "275.8 4.995998398718718\n"
     ]
    }
   ],
   "source": [
    "print(mean_221,std_221)"
   ]
  },
  {
   "cell_type": "code",
   "execution_count": 51,
   "id": "18ac86e3-b4d0-4f7e-9a6d-750a5b69905e",
   "metadata": {},
   "outputs": [
    {
     "name": "stdout",
     "output_type": "stream",
     "text": [
      "2.7666666666666666 1.5849991237291654\n"
     ]
    }
   ],
   "source": [
    "print(mean_222,std_222)"
   ]
  },
  {
   "cell_type": "code",
   "execution_count": 52,
   "id": "66a3f0b9-14e7-4b82-8956-e38f770b05e4",
   "metadata": {},
   "outputs": [
    {
     "name": "stdout",
     "output_type": "stream",
     "text": [
      "2.4 1.4966629547095764\n"
     ]
    }
   ],
   "source": [
    "print(mean_322,std_322)"
   ]
  },
  {
   "cell_type": "code",
   "execution_count": 53,
   "id": "37111b21-1ce5-40b0-b1d3-05090d96e1c1",
   "metadata": {},
   "outputs": [
    {
     "name": "stdout",
     "output_type": "stream",
     "text": [
      "2.6666666666666665 1.679947089113887\n"
     ]
    }
   ],
   "source": [
    "print(mean_332,std_332)"
   ]
  },
  {
   "cell_type": "code",
   "execution_count": 54,
   "id": "3f678d68-8e19-49ed-8356-325063455fb6",
   "metadata": {},
   "outputs": [
    {
     "name": "stdout",
     "output_type": "stream",
     "text": [
      "3.0 2.2949219304078006\n"
     ]
    }
   ],
   "source": [
    "print(mean_333,std_333)"
   ]
  },
  {
   "cell_type": "code",
   "execution_count": 55,
   "id": "80221f54-1ded-4651-81fc-35433cb705d1",
   "metadata": {},
   "outputs": [
    {
     "name": "stdout",
     "output_type": "stream",
     "text": [
      "5.333333333333333 2.102908039411667\n"
     ]
    }
   ],
   "source": [
    "print(mean_123,std_123)"
   ]
  },
  {
   "cell_type": "code",
   "execution_count": 56,
   "id": "fc4fe899-ed75-4424-808d-8a51c6c2b17a",
   "metadata": {},
   "outputs": [
    {
     "name": "stdout",
     "output_type": "stream",
     "text": [
      "359.4 1.854723699099141\n"
     ]
    }
   ],
   "source": [
    "print(mean_113,std_113)"
   ]
  },
  {
   "cell_type": "code",
   "execution_count": null,
   "id": "a0fcfac2-4049-4cc2-909d-4a9209779745",
   "metadata": {},
   "outputs": [],
   "source": []
  }
 ],
 "metadata": {
  "kernelspec": {
   "display_name": "Python 3 (ipykernel)",
   "language": "python",
   "name": "python3"
  },
  "language_info": {
   "codemirror_mode": {
    "name": "ipython",
    "version": 3
   },
   "file_extension": ".py",
   "mimetype": "text/x-python",
   "name": "python",
   "nbconvert_exporter": "python",
   "pygments_lexer": "ipython3",
   "version": "3.12.4"
  }
 },
 "nbformat": 4,
 "nbformat_minor": 5
}
