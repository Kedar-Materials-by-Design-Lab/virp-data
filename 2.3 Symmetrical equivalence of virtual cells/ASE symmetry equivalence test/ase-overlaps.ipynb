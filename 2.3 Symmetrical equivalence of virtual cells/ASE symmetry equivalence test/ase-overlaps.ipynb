{
 "cells": [
  {
   "cell_type": "markdown",
   "id": "49ef5184-ca47-4c3c-b427-68d9354b4ebc",
   "metadata": {},
   "source": [
    "### ASE Symmetry Equivalence Check"
   ]
  },
  {
   "cell_type": "code",
   "execution_count": 3,
   "id": "0490a6d1-67a7-438f-a2be-6044f7b8cd27",
   "metadata": {},
   "outputs": [
    {
     "name": "stdout",
     "output_type": "stream",
     "text": [
      "\n",
      "Degeneracy figure: 12 (out of 400 total cells)\n",
      "\n",
      "Written results to: 123_symmetry_groups.txt\n",
      "CPU times: total: 56min 9s\n",
      "Wall time: 59min 2s\n"
     ]
    }
   ],
   "source": [
    "%%time\n",
    "\n",
    "import os\n",
    "from ase.io import read\n",
    "from ase.utils.structure_comparator import SymmetryEquivalenceCheck\n",
    "from collections import defaultdict\n",
    "\n",
    "# Settings\n",
    "folder = '123'  # set this to your folder path\n",
    "output_file = f\"{folder}_symmetry_groups.txt\"\n",
    "\n",
    "cif_files = sorted([f for f in os.listdir(folder) if f.endswith('.cif') and '_virtual_' in f])\n",
    "check = SymmetryEquivalenceCheck(angle_tol=1.0, ltol=0.05, stol=0.05, vol_tol=0.1)\n",
    "\n",
    "structures = [(f, read(os.path.join(folder, f))) for f in cif_files]\n",
    "\n",
    "# Grouping logic\n",
    "groups = []\n",
    "group_map = {}  # file -> group id\n",
    "\n",
    "for fname, atoms in structures:\n",
    "    found_group = False\n",
    "    for i, ref in enumerate(groups):\n",
    "        if check.compare(atoms, ref[0][1]):\n",
    "            ref.append((fname, atoms))\n",
    "            group_map[fname] = i\n",
    "            found_group = True\n",
    "            break\n",
    "    if not found_group:\n",
    "        groups.append([(fname, atoms)])\n",
    "        group_map[fname] = len(groups) - 1\n",
    "\n",
    "# Write output to text file\n",
    "with open(output_file, 'w') as f:\n",
    "    f.write(\"Symmetry-equivalent groups:\\n\")\n",
    "    for i, group in enumerate(groups):\n",
    "        f.write(f\"\\nGroup {i+1}:\\n\")\n",
    "        for fname, _ in group:\n",
    "            f.write(f\"  {fname}\\n\")\n",
    "\n",
    "    degeneracy = len(cif_files) - len(groups)\n",
    "    f.write(f\"\\nDegeneracy figure: {degeneracy} (out of {len(cif_files)} total cells)\\n\")\n",
    "\n",
    "print(f\"\\nDegeneracy figure: {degeneracy} (out of {len(cif_files)} total cells)\\n\")\n",
    "print(f\"Written results to: {output_file}\")"
   ]
  },
  {
   "cell_type": "markdown",
   "id": "ffd343fb-b411-4d8c-9506-804d53aaf21e",
   "metadata": {},
   "source": [
    "#### (0-tolerance)\n",
    "Somehow, this doesn't work"
   ]
  },
  {
   "cell_type": "code",
   "execution_count": null,
   "id": "2def8cb9-6407-4614-8bd7-4fd82646a766",
   "metadata": {},
   "outputs": [],
   "source": [
    "import os\n",
    "from ase.io import read\n",
    "from ase.utils.structure_comparator import SymmetryEquivalenceCheck\n",
    "from collections import defaultdict\n",
    "\n",
    "# Settings\n",
    "folder = '112'  # set this to your folder path\n",
    "output_file = f\"{folder}_symmetry_groups.txt\"\n",
    "\n",
    "cif_files = sorted([f for f in os.listdir(folder) if f.endswith('.cif') and '_virtual_' in f])\n",
    "check = SymmetryEquivalenceCheck(angle_tol=0.0001, ltol=0.0001, stol=0.01, vol_tol=0.0001)\n",
    "\n",
    "structures = [(f, read(os.path.join(folder, f))) for f in cif_files]\n",
    "\n",
    "# Grouping logic\n",
    "groups = []\n",
    "group_map = {}  # file -> group id\n",
    "\n",
    "for fname, atoms in structures:\n",
    "    found_group = False\n",
    "    for i, ref in enumerate(groups):\n",
    "        if check.compare(atoms, ref[0][1]):\n",
    "            ref.append((fname, atoms))\n",
    "            group_map[fname] = i\n",
    "            found_group = True\n",
    "            break\n",
    "    if not found_group:\n",
    "        groups.append([(fname, atoms)])\n",
    "        group_map[fname] = len(groups) - 1\n",
    "\n",
    "# Write output to text file\n",
    "with open(output_file, 'w') as f:\n",
    "    f.write(\"Symmetry-equivalent groups:\\n\")\n",
    "    for i, group in enumerate(groups):\n",
    "        f.write(f\"\\nGroup {i+1}:\\n\")\n",
    "        for fname, _ in group:\n",
    "            f.write(f\"  {fname}\\n\")\n",
    "\n",
    "    degeneracy = len(cif_files) - len(groups)\n",
    "    f.write(f\"\\nDegeneracy figure: {degeneracy} (out of {len(cif_files)} total cells)\\n\")\n",
    "\n",
    "print(f\"\\nDegeneracy figure: {degeneracy} (out of {len(cif_files)} total cells)\\n\")\n",
    "print(f\"Written results to: {output_file}\")"
   ]
  },
  {
   "cell_type": "markdown",
   "id": "1ded9274-3272-4f7b-95b6-0a53288edf54",
   "metadata": {},
   "source": [
    "### Total Energy check (float)"
   ]
  },
  {
   "cell_type": "code",
   "execution_count": 138,
   "id": "06accebe-b16d-417f-88c5-df7fe806048d",
   "metadata": {},
   "outputs": [
    {
     "name": "stdout",
     "output_type": "stream",
     "text": [
      "\n",
      "Degeneracy figure: 299 (out of 400 total cells)\n",
      "\n",
      "Written results to: 122_energy_groups_float.txt\n"
     ]
    }
   ],
   "source": [
    "import os\n",
    "import pandas as pd\n",
    "from collections import defaultdict\n",
    "\n",
    "# Settings\n",
    "folder = '122'  # set this to your folder path\n",
    "output_file = f\"{folder}_energy_groups_float.txt\"\n",
    "\n",
    "# Read CSV\n",
    "df = pd.read_csv(os.path.join(folder, 'total_energies.csv'))\n",
    "\n",
    "# Apply tolerance-based rounding\n",
    "tolerance = 1e-6\n",
    "df['Rounded Energy'] = df['Total Energy (eV)'].apply(lambda x: round(x / tolerance) * tolerance)\n",
    "\n",
    "# Group by rounded energy\n",
    "energy_groups = defaultdict(list)\n",
    "for _, row in df.iterrows():\n",
    "    energy_groups[row['Rounded Energy']].append(int(row['virtual-id']))\n",
    "\n",
    "# Write output\n",
    "with open(output_file, 'w') as f:\n",
    "    f.write(\"Energy-equivalent groups (with tolerance):\\n\")\n",
    "    for i, (energy, ids) in enumerate(energy_groups.items()):\n",
    "        f.write(f\"\\nGroup {i+1} (Energy ~ {energy:.6f} eV):\\n\")\n",
    "        for vid in ids:\n",
    "            f.write(f\"  virtual-id = {vid}\\n\")\n",
    "\n",
    "    degeneracy = len(df) - len(energy_groups)\n",
    "    f.write(f\"\\nDegeneracy figure: {degeneracy} (out of {len(df)} total entries)\\n\")\n",
    "\n",
    "print(f\"\\nDegeneracy figure: {degeneracy} (out of {len(cif_files)} total cells)\\n\")\n",
    "print(f\"Written results to: {output_file}\")"
   ]
  },
  {
   "cell_type": "markdown",
   "id": "941369ed-9894-48d5-a4cf-d29c3ad2b85c",
   "metadata": {},
   "source": [
    "### Total Energy Check (strings)"
   ]
  },
  {
   "cell_type": "code",
   "execution_count": 1,
   "id": "073cc97d-e103-4dab-937c-b480d16ffd32",
   "metadata": {},
   "outputs": [
    {
     "ename": "NameError",
     "evalue": "name 'cif_files' is not defined",
     "output_type": "error",
     "traceback": [
      "\u001b[1;31m---------------------------------------------------------------------------\u001b[0m",
      "\u001b[1;31mNameError\u001b[0m                                 Traceback (most recent call last)",
      "Cell \u001b[1;32mIn[1], line 31\u001b[0m\n\u001b[0;32m     28\u001b[0m     degeneracy \u001b[38;5;241m=\u001b[39m \u001b[38;5;28mlen\u001b[39m(df) \u001b[38;5;241m-\u001b[39m \u001b[38;5;28mlen\u001b[39m(energy_groups)\n\u001b[0;32m     29\u001b[0m     f\u001b[38;5;241m.\u001b[39mwrite(\u001b[38;5;124mf\u001b[39m\u001b[38;5;124m\"\u001b[39m\u001b[38;5;130;01m\\n\u001b[39;00m\u001b[38;5;124mDegeneracy figure: \u001b[39m\u001b[38;5;132;01m{\u001b[39;00mdegeneracy\u001b[38;5;132;01m}\u001b[39;00m\u001b[38;5;124m (out of \u001b[39m\u001b[38;5;132;01m{\u001b[39;00m\u001b[38;5;28mlen\u001b[39m(df)\u001b[38;5;132;01m}\u001b[39;00m\u001b[38;5;124m total entries)\u001b[39m\u001b[38;5;130;01m\\n\u001b[39;00m\u001b[38;5;124m\"\u001b[39m)\n\u001b[1;32m---> 31\u001b[0m \u001b[38;5;28mprint\u001b[39m(\u001b[38;5;124mf\u001b[39m\u001b[38;5;124m\"\u001b[39m\u001b[38;5;130;01m\\n\u001b[39;00m\u001b[38;5;124mDegeneracy figure: \u001b[39m\u001b[38;5;132;01m{\u001b[39;00mdegeneracy\u001b[38;5;132;01m}\u001b[39;00m\u001b[38;5;124m (out of \u001b[39m\u001b[38;5;132;01m{\u001b[39;00m\u001b[38;5;28mlen\u001b[39m(cif_files)\u001b[38;5;132;01m}\u001b[39;00m\u001b[38;5;124m total cells)\u001b[39m\u001b[38;5;130;01m\\n\u001b[39;00m\u001b[38;5;124m\"\u001b[39m)\n\u001b[0;32m     32\u001b[0m \u001b[38;5;28mprint\u001b[39m(\u001b[38;5;124mf\u001b[39m\u001b[38;5;124m\"\u001b[39m\u001b[38;5;124mWritten results to: \u001b[39m\u001b[38;5;132;01m{\u001b[39;00moutput_file\u001b[38;5;132;01m}\u001b[39;00m\u001b[38;5;124m\"\u001b[39m)\n",
      "\u001b[1;31mNameError\u001b[0m: name 'cif_files' is not defined"
     ]
    }
   ],
   "source": [
    "import os\n",
    "import pandas as pd\n",
    "from collections import defaultdict\n",
    "\n",
    "# Settings\n",
    "folder = '123'  # set this to your folder path\n",
    "output_file = f\"{folder}_energy_groups_string.txt\"\n",
    "\n",
    "# Read CSV\n",
    "df = pd.read_csv(os.path.join(folder, 'total_energies.csv'))\n",
    "\n",
    "# Convert energy to string and group by exact matches\n",
    "df['Energy String'] = df['Total Energy (eV)'].astype(str)\n",
    "\n",
    "# Grouping\n",
    "energy_groups = defaultdict(list)\n",
    "for _, row in df.iterrows():\n",
    "    energy_groups[row['Energy String']].append(row['virtual-id'])\n",
    "\n",
    "# Write output to text file\n",
    "with open(output_file, 'w') as f:\n",
    "    f.write(\"Energy-equivalent groups (exact match):\\n\")\n",
    "    for i, (energy_str, ids) in enumerate(energy_groups.items()):\n",
    "        f.write(f\"\\nGroup {i+1} (Energy = {energy_str} eV):\\n\")\n",
    "        for vid in ids:\n",
    "            f.write(f\"  virtual-id = {vid}\\n\")\n",
    "\n",
    "    degeneracy = len(df) - len(energy_groups)\n",
    "    f.write(f\"\\nDegeneracy figure: {degeneracy} (out of {len(df)} total entries)\\n\")\n",
    "\n",
    "print(f\"\\nDegeneracy figure: {degeneracy} (out of {len(cif_files)} total cells)\\n\")\n",
    "print(f\"Written results to: {output_file}\")"
   ]
  },
  {
   "cell_type": "code",
   "execution_count": null,
   "id": "30584d91-4287-4711-9839-964b7c4cf799",
   "metadata": {},
   "outputs": [],
   "source": []
  }
 ],
 "metadata": {
  "kernelspec": {
   "display_name": "Python 3 (ipykernel)",
   "language": "python",
   "name": "python3"
  },
  "language_info": {
   "codemirror_mode": {
    "name": "ipython",
    "version": 3
   },
   "file_extension": ".py",
   "mimetype": "text/x-python",
   "name": "python",
   "nbconvert_exporter": "python",
   "pygments_lexer": "ipython3",
   "version": "3.12.4"
  }
 },
 "nbformat": 4,
 "nbformat_minor": 5
}
