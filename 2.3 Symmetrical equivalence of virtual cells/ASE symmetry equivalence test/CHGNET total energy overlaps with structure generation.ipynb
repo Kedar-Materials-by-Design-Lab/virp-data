{
 "cells": [
  {
   "cell_type": "markdown",
   "id": "fbd510d3-8391-438f-871c-ba9059ef3773",
   "metadata": {},
   "source": [
    "# Function to eval total energies (for degeneracy); Initial runs"
   ]
  },
  {
   "cell_type": "code",
   "execution_count": 1,
   "id": "8d13481a-cacf-4a82-8aee-e79c6f9f80a0",
   "metadata": {},
   "outputs": [
    {
     "name": "stdout",
     "output_type": "stream",
     "text": [
      "CHGNet v0.3.0 initialized with 412,525 parameters\n",
      "CHGNet will run on cpu\n"
     ]
    }
   ],
   "source": [
    "from virp import CIFSupercell, PermutativeFill\n",
    "from virp.enumerate import EquivalentStructures\n",
    "from chgnet.model import CHGNet\n",
    "from pymatgen.core.structure import Structure\n",
    "import warnings\n",
    "from pathlib import Path\n",
    "import pandas as pd\n",
    "\n",
    "# Load CHGNET zeropoint\n",
    "model = CHGNet.load()\n",
    "\n",
    "def SVC(input_cif, supercell, fname, sample_size=400, chgnetmodel = model):\n",
    "    \"\"\"\n",
    "    Given a disordered .cif file, create an output folder\n",
    "    containing a number (sample_size) of virtual cells\n",
    "    \n",
    "    Args:\n",
    "        input_cif (str): Path to .cif (disordered)\n",
    "        supercell [int,int,int]: multiplicity of supercell\n",
    "        sample_size (int): Number of virtual cells to generate (default is 400)\n",
    "        \n",
    "    Returns:\n",
    "        void\n",
    "    \"\"\"\n",
    "\n",
    "    # Suppress warnings in this block\n",
    "    with warnings.catch_warnings():\n",
    "        warnings.simplefilter(\"ignore\")\n",
    "\n",
    "        # Init data\n",
    "        data = []\n",
    "\n",
    "        # Make output folder directory\n",
    "        Path(fname).mkdir(exist_ok=True)  # `exist_ok=True` avoids errors if the directory exists.\n",
    "        print(f\"Directory created at: {fname}\")\n",
    "\n",
    "        # Make the supercell\n",
    "        sc_file = Path(fname) / (str(Path(fname)) + \"_supercell.cif\")\n",
    "        CIFSupercell(input_cif, sc_file, supercell)\n",
    "\n",
    "        # Execution\n",
    "        for i in range(sample_size):\n",
    "            # Permutative fill only, no structure optimization\n",
    "            pfill_file = Path(fname) / Path(\"_virtual_\"+str(i)+\".cif\")\n",
    "            PermutativeFill(sc_file, pfill_file, verbose = False)\n",
    "            print(f\"\\rGenerating virtual cell #{i} ({i+1}/{sample_size})\", end=\"\", flush=True)\n",
    "\n",
    "            # Predict total energy\n",
    "            structure = Structure.from_file(pfill_file)\n",
    "            prediction = model.predict_structure(structure)\n",
    "            total_energy = prediction[\"e\"]  # Energy in eV\n",
    "\n",
    "            # data append\n",
    "            data.append({\n",
    "                \"virtual-id\": i,\n",
    "                \"Total Energy (eV)\": total_energy,\n",
    "            })\n",
    "\n",
    "        # Create a DataFrame\n",
    "        df = pd.DataFrame(data)\n",
    "\n",
    "        # Save the DataFrame to a CSV file\n",
    "        output_file = Path(fname) / \"total_energies.csv\"\n",
    "        df.to_csv(output_file, index = False)\n",
    "        print(f\"Results saved to {output_file}\")\n",
    "\n",
    "        # Perform enumeration\n",
    "        EquivalentStructures(output_file)\n",
    "        \n",
    "        with open(Path(fname) / \"_JOBDONE\", 'w') as file: pass # make an empty file signalling completion\n",
    "        print(\"\\nAll cells generated (see _JOBDONE file).\")"
   ]
  },
  {
   "cell_type": "markdown",
   "id": "80fb7997-f87b-4407-b353-a62e1d53bf86",
   "metadata": {},
   "source": [
    "# Main Body of Code (serious runs)"
   ]
  },
  {
   "cell_type": "code",
   "execution_count": 3,
   "id": "e3499be3-c93d-4108-9872-faef40248259",
   "metadata": {},
   "outputs": [],
   "source": [
    "brass_file = \"197803-brass-Cu62Zn38.cif\""
   ]
  },
  {
   "cell_type": "code",
   "execution_count": 9,
   "id": "5178e8b3-3486-4f4a-ab65-100bfd2352f2",
   "metadata": {},
   "outputs": [
    {
     "name": "stdout",
     "output_type": "stream",
     "text": [
      "Directory created at: 333\n",
      "Supercell created and saved as  333\\333_supercell.cif\n",
      "Generating virtual cell #399 (400/400)Results saved to 333\\total_energies.csv\n",
      "Number of redundant structures: 2/400 (0.50%)\n",
      "\n",
      "All cells generated (see _JOBDONE file).\n"
     ]
    }
   ],
   "source": [
    "SVC(brass_file, [3,3,3], \"333\", sample_size=400, chgnetmodel = model) "
   ]
  },
  {
   "cell_type": "code",
   "execution_count": 28,
   "id": "f2192a91-6f31-4b4c-b3d3-94005b7e135c",
   "metadata": {},
   "outputs": [
    {
     "name": "stdout",
     "output_type": "stream",
     "text": [
      "Directory created at: 111\n",
      "Supercell created and saved as  111\\111_supercell.cif\n",
      "Disordered site name:  Zn1\n",
      "- Number of elements in this site:  2\n",
      "- Number of sites in supercell:  4\n",
      "- Atoms and site assignment (float/rounded):  [('Zn', 1.52, 2), ('Cu', 2.48, 2)]\n",
      "- No of filled sites:  4 / 4\n",
      "Generating virtual cell #399 (400/400)Results saved to 111\\total_energies.csv\n",
      "Number of redundant structures: 398/400 (99.50%)\n",
      "\n",
      "All cells generated (see _JOBDONE file).\n"
     ]
    }
   ],
   "source": [
    "SVC(brass_file, [1,1,1], \"111\", sample_size=400, chgnetmodel = model) "
   ]
  },
  {
   "cell_type": "code",
   "execution_count": 5,
   "id": "ee89c4fe-1e88-4583-884e-e7adb805c0a9",
   "metadata": {},
   "outputs": [
    {
     "name": "stdout",
     "output_type": "stream",
     "text": [
      "Directory created at: 112\n",
      "Supercell created and saved as  112\\112_supercell.cif\n",
      "Generating virtual cell #399 (400/400)Results saved to 112\\total_energies.csv\n",
      "Number of redundant structures: 392/400 (98.00%)\n",
      "\n",
      "All cells generated (see _JOBDONE file).\n"
     ]
    }
   ],
   "source": [
    "SVC(brass_file, [1,1,2], \"112\", sample_size=400, chgnetmodel = model) "
   ]
  },
  {
   "cell_type": "code",
   "execution_count": 7,
   "id": "4dbd99c3-c640-4d84-b93c-1415e459da2b",
   "metadata": {},
   "outputs": [
    {
     "name": "stdout",
     "output_type": "stream",
     "text": [
      "Directory created at: 122\n",
      "Supercell created and saved as  122\\122_supercell.cif\n",
      "Generating virtual cell #399 (400/400)Results saved to 122\\total_energies.csv\n",
      "Number of redundant structures: 277/400 (69.25%)\n",
      "\n",
      "All cells generated (see _JOBDONE file).\n"
     ]
    }
   ],
   "source": [
    "SVC(brass_file, [1,2,2], \"122\", sample_size=400, chgnetmodel = model) "
   ]
  },
  {
   "cell_type": "code",
   "execution_count": 6,
   "id": "a893e2f1-42ae-41cd-a476-182366993891",
   "metadata": {},
   "outputs": [
    {
     "name": "stdout",
     "output_type": "stream",
     "text": [
      "Directory created at: 123\n",
      "Supercell created and saved as  123\\123_supercell.cif\n",
      "Generating virtual cell #399 (400/400)Results saved to 123\\total_energies.csv\n",
      "Number of redundant structures: 14/400 (3.50%)\n",
      "\n",
      "All cells generated (see _JOBDONE file).\n"
     ]
    }
   ],
   "source": [
    "SVC(brass_file, [1,2,3], \"123\", sample_size=400, chgnetmodel = model) "
   ]
  },
  {
   "cell_type": "code",
   "execution_count": 7,
   "id": "8d841bea-1297-4df6-a20b-0b6782f957f8",
   "metadata": {},
   "outputs": [
    {
     "name": "stdout",
     "output_type": "stream",
     "text": [
      "Directory created at: 113\n",
      "Supercell created and saved as  113\\113_supercell.cif\n",
      "Generating virtual cell #399 (400/400)Results saved to 113\\total_energies.csv\n",
      "Number of redundant structures: 352/400 (88.00%)\n",
      "\n",
      "All cells generated (see _JOBDONE file).\n"
     ]
    }
   ],
   "source": [
    "SVC(brass_file, [1,1,3], \"113\", sample_size=400, chgnetmodel = model) "
   ]
  },
  {
   "cell_type": "code",
   "execution_count": 8,
   "id": "9f12c5d7-ad4e-4753-8ad8-6d9963d5de66",
   "metadata": {},
   "outputs": [
    {
     "name": "stdout",
     "output_type": "stream",
     "text": [
      "Directory created at: 322\n",
      "Supercell created and saved as  322\\322_supercell.cif\n",
      "Generating virtual cell #399 (400/400)Results saved to 322\\total_energies.csv\n",
      "Number of redundant structures: 4/400 (1.00%)\n",
      "\n",
      "All cells generated (see _JOBDONE file).\n"
     ]
    }
   ],
   "source": [
    "SVC(brass_file, [3,2,2], \"322\", sample_size=400, chgnetmodel = model) "
   ]
  },
  {
   "cell_type": "code",
   "execution_count": 9,
   "id": "3f629606-06c9-48b4-b104-1a32a0955332",
   "metadata": {},
   "outputs": [
    {
     "name": "stdout",
     "output_type": "stream",
     "text": [
      "Directory created at: 332\n",
      "Supercell created and saved as  332\\332_supercell.cif\n",
      "Generating virtual cell #399 (400/400)Results saved to 332\\total_energies.csv\n",
      "Number of redundant structures: 0/400 (0.00%)\n",
      "\n",
      "All cells generated (see _JOBDONE file).\n"
     ]
    }
   ],
   "source": [
    "SVC(brass_file, [3,3,2], \"332\", sample_size=400, chgnetmodel = model) "
   ]
  },
  {
   "cell_type": "markdown",
   "id": "d98eb925-0736-4139-ba2a-335e201a2a3e",
   "metadata": {},
   "source": [
    "# Test run"
   ]
  },
  {
   "cell_type": "code",
   "execution_count": 26,
   "id": "8ad2fec5-c639-48f3-b5b3-5fc99fd6ea1c",
   "metadata": {},
   "outputs": [
    {
     "name": "stdout",
     "output_type": "stream",
     "text": [
      "Directory created at: TEST\n",
      "Supercell created and saved as  TEST\\TEST_supercell.cif\n",
      "Disordered site name:  Zn1\n",
      "- Number of elements in this site:  2\n",
      "- Number of sites in supercell:  32\n",
      "- Atoms and site assignment (float/rounded):  [('Zn', 12.16, 12), ('Cu', 19.84, 20)]\n",
      "- No of filled sites:  32 / 32\n",
      "Generating virtual cell #2 (3/3)Results saved to TEST\\total_energies.csv\n",
      "Number of redundant structures: 0/3 (0.00%)\n",
      "\n",
      "All cells generated (see _JOBDONE file).\n"
     ]
    }
   ],
   "source": [
    "SVC(\"197803-brass-Cu62Zn38.cif\", [2,2,2], \"TEST\", sample_size=3, chgnetmodel = model)"
   ]
  },
  {
   "cell_type": "markdown",
   "id": "c71f9aa0-fa86-4d46-b08a-c461b67b4c7b",
   "metadata": {},
   "source": [
    "# Test CHGNET, total energy only"
   ]
  },
  {
   "cell_type": "code",
   "execution_count": 4,
   "id": "f08dd1ae-6460-4dd8-a502-d1903b9a5036",
   "metadata": {},
   "outputs": [
    {
     "name": "stdout",
     "output_type": "stream",
     "text": [
      "CHGNet v0.3.0 initialized with 412,525 parameters\n",
      "CHGNet will run on cpu\n",
      "Total Energy: -7.9596 eV\n"
     ]
    }
   ],
   "source": [
    "from pymatgen.core import Structure\n",
    "from chgnet.model import CHGNet\n",
    "\n",
    "# Load CIF file\n",
    "cif_file = \"CoFe_virtual_2-TEST.cif\"  # Change this to your file path\n",
    "# cif_file = \"197803-brass-Cu62Zn38.cif\"  # disordered?? no work\n",
    "structure = Structure.from_file(cif_file)\n",
    "\n",
    "# Load pre-trained CHGNet model\n",
    "model = CHGNet.load()\n",
    "\n",
    "# Predict total energy\n",
    "prediction = model.predict_structure(structure)\n",
    "total_energy = prediction[\"e\"]  # Energy in eV\n",
    "\n",
    "print(f\"Total Energy: {total_energy:.4f} eV\")"
   ]
  }
 ],
 "metadata": {
  "kernelspec": {
   "display_name": "Python 3 (ipykernel)",
   "language": "python",
   "name": "python3"
  },
  "language_info": {
   "codemirror_mode": {
    "name": "ipython",
    "version": 3
   },
   "file_extension": ".py",
   "mimetype": "text/x-python",
   "name": "python",
   "nbconvert_exporter": "python",
   "pygments_lexer": "ipython3",
   "version": "3.12.4"
  }
 },
 "nbformat": 4,
 "nbformat_minor": 5
}
