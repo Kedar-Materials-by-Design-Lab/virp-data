{
 "cells": [
  {
   "cell_type": "markdown",
   "id": "b7ff77a1-f9af-4608-b311-40e6ddadb9cf",
   "metadata": {},
   "source": [
    "# See matches from grouplist"
   ]
  },
  {
   "cell_type": "markdown",
   "id": "eed77c3c-26f5-4f47-990b-9bd75ebcde40",
   "metadata": {},
   "source": [
    "### 1. Total Energy (string) comparison"
   ]
  },
  {
   "cell_type": "code",
   "execution_count": 23,
   "id": "8d871983-f6f3-4006-8bef-d839c250ff8f",
   "metadata": {},
   "outputs": [],
   "source": [
    "import re\n",
    "import itertools\n",
    "import csv\n",
    "\n",
    "# Load from a text file or paste the raw text here\n",
    "with open(\"123_energy_groups_string.txt\", \"r\") as f:\n",
    "    text = f.read()\n",
    "\n",
    "# Match each group\n",
    "group_blocks = re.findall(r\"Group \\d+ \\(Energy = .*?eV\\):\\n(.*?)(?=\\nGroup|\\Z)\", text, re.DOTALL)\n",
    "\n",
    "pairs = []\n",
    "\n",
    "for block in group_blocks:\n",
    "    # Extract all virtual-ids in this group\n",
    "    ids = list(map(int, re.findall(r\"virtual-id\\s*=\\s*(\\d+)\", block)))\n",
    "    if len(ids) > 1:\n",
    "        # Get all combinations of pairs\n",
    "        group_pairs = list(itertools.combinations(ids, 2))\n",
    "        pairs.extend(group_pairs)\n",
    "\n",
    "# Save to CSV (two columns, no header)\n",
    "with open(\"123_energy_groups_string_pairs.csv\", \"w\", newline=\"\") as f:\n",
    "    writer = csv.writer(f)\n",
    "    writer.writerows(pairs)\n"
   ]
  },
  {
   "cell_type": "markdown",
   "id": "a69ca89c-8ee8-4211-a98f-c70a9cba1631",
   "metadata": {},
   "source": [
    "### 2. ASE symmetry equivalence comparison"
   ]
  },
  {
   "cell_type": "code",
   "execution_count": 33,
   "id": "1dafa896-f1e8-46d0-b2c1-ce6d315dc948",
   "metadata": {},
   "outputs": [],
   "source": [
    "import re\n",
    "import itertools\n",
    "import csv\n",
    "\n",
    "# Load the file\n",
    "with open(\"123_symmetry_groups.txt\", \"r\") as f:\n",
    "    text = f.read()\n",
    "\n",
    "# Match group blocks: \"Group N:\" followed by lines starting with \"  _virtual_###.cif\"\n",
    "group_blocks = re.findall(r\"Group \\d+:\\n(.*?)(?=\\nGroup|\\nDegeneracy|\\Z)\", text, re.DOTALL)\n",
    "\n",
    "pairs = set()\n",
    "\n",
    "for block in group_blocks:\n",
    "    # Extract virtual IDs as integers\n",
    "    ids = sorted(map(int, re.findall(r\"_virtual_(\\d+)\\.cif\", block)))\n",
    "    if len(ids) > 1:\n",
    "        # Generate all unique ordered pairs (n1 < n2)\n",
    "        for n1, n2 in itertools.combinations(ids, 2):\n",
    "            pairs.add((n1, n2))\n",
    "\n",
    "# Sort final pairs for consistency\n",
    "pairs = sorted(pairs)\n",
    "\n",
    "# Write to CSV (two columns, no header)\n",
    "with open(\"123_symmetry_groups_pairs.csv\", \"w\", newline=\"\") as f:\n",
    "    writer = csv.writer(f)\n",
    "    writer.writerows(pairs)\n"
   ]
  },
  {
   "cell_type": "markdown",
   "id": "ffd262d8-4abd-45c1-a85f-d799d7a3cb29",
   "metadata": {},
   "source": [
    "# Stats for comparing between the two methods"
   ]
  },
  {
   "cell_type": "code",
   "execution_count": 35,
   "id": "8b78a2a1-77a8-43b7-8d5f-599d6c525cf5",
   "metadata": {},
   "outputs": [
    {
     "name": "stdout",
     "output_type": "stream",
     "text": [
      "Total pairs in A (energy): 15\n",
      "Total pairs in B (symmetry): 13\n",
      "Pairs in both (A ∩ B): 10\n",
      "Pairs only in A: 5\n",
      "Pairs only in B: 3\n",
      "Jaccard index: 55.56%\n",
      "\n",
      "Some pairs only in A:\n",
      "(66, 271)\n",
      "(94, 168)\n",
      "(130, 182)\n",
      "(107, 369)\n",
      "(114, 154)\n",
      "\n",
      "Some pairs only in B:\n",
      "(94, 325)\n",
      "(135, 381)\n",
      "(104, 292)\n"
     ]
    }
   ],
   "source": [
    "import csv\n",
    "\n",
    "def load_pairs(filename):\n",
    "    with open(filename, \"r\") as f:\n",
    "        reader = csv.reader(f)\n",
    "        return set(tuple(sorted(map(int, row))) for row in reader)\n",
    "\n",
    "# Load sets\n",
    "pairs_A = load_pairs(\"123_energy_groups_string_pairs.csv\")\n",
    "pairs_B = load_pairs(\"123_symmetry_groups_pairs.csv\")\n",
    "\n",
    "# Calculate differences and intersection\n",
    "only_in_A = pairs_A - pairs_B\n",
    "only_in_B = pairs_B - pairs_A\n",
    "intersection = pairs_A & pairs_B\n",
    "union = pairs_A | pairs_B\n",
    "\n",
    "# Report\n",
    "print(f\"Total pairs in A (energy): {len(pairs_A)}\")\n",
    "print(f\"Total pairs in B (symmetry): {len(pairs_B)}\")\n",
    "print(f\"Pairs in both (A ∩ B): {len(intersection)}\")\n",
    "print(f\"Pairs only in A: {len(only_in_A)}\")\n",
    "print(f\"Pairs only in B: {len(only_in_B)}\")\n",
    "print(f\"Jaccard index: {len(intersection) / len(union) * 100:.2f}%\")\n",
    "\n",
    "# Optional: print the actual differences\n",
    "print(\"\\nSome pairs only in A:\")\n",
    "for p in list(only_in_A)[:10]:\n",
    "    print(p)\n",
    "\n",
    "print(\"\\nSome pairs only in B:\")\n",
    "for p in list(only_in_B)[:10]:\n",
    "    print(p)\n"
   ]
  },
  {
   "cell_type": "code",
   "execution_count": null,
   "id": "45697efb-9cf5-4135-9cf2-81f68924d1bd",
   "metadata": {},
   "outputs": [],
   "source": []
  }
 ],
 "metadata": {
  "kernelspec": {
   "display_name": "Python 3 (ipykernel)",
   "language": "python",
   "name": "python3"
  },
  "language_info": {
   "codemirror_mode": {
    "name": "ipython",
    "version": 3
   },
   "file_extension": ".py",
   "mimetype": "text/x-python",
   "name": "python",
   "nbconvert_exporter": "python",
   "pygments_lexer": "ipython3",
   "version": "3.12.4"
  }
 },
 "nbformat": 4,
 "nbformat_minor": 5
}
